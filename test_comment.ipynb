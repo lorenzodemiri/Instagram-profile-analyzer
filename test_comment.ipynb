{
 "metadata": {
  "language_info": {
   "codemirror_mode": {
    "name": "ipython",
    "version": 3
   },
   "file_extension": ".py",
   "mimetype": "text/x-python",
   "name": "python",
   "nbconvert_exporter": "python",
   "pygments_lexer": "ipython3",
   "version": "3.8.8"
  },
  "orig_nbformat": 2,
  "kernelspec": {
   "name": "python38864bitpytorchenvconda19315f94761848eb8d43567481f19b5d",
   "display_name": "Python 3.8.8 64-bit ('pytorch_env': conda)"
  },
  "metadata": {
   "interpreter": {
    "hash": "9d3382cbd2a85478c715b36dad535bad898b67697afb3a7fee585ef5c00024ab"
   }
  }
 },
 "nbformat": 4,
 "nbformat_minor": 2,
 "cells": [
  {
   "cell_type": "code",
   "execution_count": 1,
   "metadata": {},
   "outputs": [
    {
     "output_type": "stream",
     "name": "stdout",
     "text": [
      "pytorch_env\n"
     ]
    }
   ],
   "source": [
    "import os\n",
    "import pandas as pd\n",
    "print (os.environ['CONDA_DEFAULT_ENV'])"
   ]
  },
  {
   "cell_type": "code",
   "execution_count": 2,
   "metadata": {},
   "outputs": [],
   "source": [
    "from transformers import pipeline"
   ]
  },
  {
   "cell_type": "code",
   "execution_count": 3,
   "metadata": {},
   "outputs": [],
   "source": [
    "nlp = pipeline(\"sentiment-analysis\")"
   ]
  },
  {
   "cell_type": "code",
   "execution_count": 4,
   "metadata": {},
   "outputs": [],
   "source": [
    "result = nlp(\"ugly photo\")[0]"
   ]
  },
  {
   "cell_type": "code",
   "execution_count": 5,
   "metadata": {},
   "outputs": [
    {
     "output_type": "stream",
     "name": "stdout",
     "text": [
      "label: NEGATIVE, with score: 0.9998\n"
     ]
    }
   ],
   "source": [
    "print(f\"label: {result['label']}, with score: {round(result['score'], 4)}\")"
   ]
  },
  {
   "cell_type": "code",
   "execution_count": 3,
   "metadata": {},
   "outputs": [],
   "source": [
    "import instaloader\n",
    "PATH_DATA = 'posts/'\n",
    "MAX_COMMENT = 50\n",
    "\n",
    "def init_insta(username=None, password=None, session_user=None):\n",
    "    L = instaloader.Instaloader(\n",
    "        dirname_pattern = \"posts/{profile}/{date}\")\n",
    "    if session_user is None and username and password is not None:\n",
    "        print('logging in ... ')\n",
    "        L.login(username, password)\n",
    "        print('logged in -> ', username)\n",
    "    else:\n",
    "        L.load_session_from_file(session_user)\n",
    "    \n",
    "    return L"
   ]
  },
  {
   "cell_type": "code",
   "execution_count": 4,
   "metadata": {},
   "outputs": [],
   "source": [
    "def set_profile(L, username_profile):\n",
    "    profile = instaloader.Profile.from_username(L.context, username_profile)\n",
    "    return profile"
   ]
  },
  {
   "cell_type": "code",
   "execution_count": 8,
   "metadata": {},
   "outputs": [],
   "source": [
    "def get_profile_data(profile):\n",
    "    if profile.is_private == True:\n",
    "        print('PRIVINFO NOT AVAILABLE')\n",
    "        return\n",
    "    \n",
    "    temp_vect = []\n",
    "    \n",
    "    try:\n",
    "        temp_has_public_story = profile.has_public_story\n",
    "        temp_has_viewable_story = profile.has_viewable_story\n",
    "    except Exception as ex:\n",
    "        print(\"EXECPTION -->\", ex)\n",
    "        temp_has_public_story = None\n",
    "        temp_has_viewable_story = None\n",
    "    dict_profile_data = {\n",
    "        'user_id': profile.userid,\n",
    "        'username': profile.username,\n",
    "        'followed_by_viewer': profile.followed_by_viewer,\n",
    "        'post_count': profile.mediacount,\n",
    "        'igtv_count': profile.igtvcount,\n",
    "        'n_follower': profile.followers,\n",
    "        'n_followees': profile.followees,\n",
    "        'external_url': profile.external_url,\n",
    "        'is_bussines': profile.is_business_account,\n",
    "        'business_Category': profile.business_category_name,\n",
    "        'biography': profile.biography,\n",
    "        'blocked_by_viewer': profile.blocked_by_viewer,\n",
    "        'follows_viewer': profile.follows_viewer,\n",
    "        'full_name': profile.full_name,\n",
    "        'has_blocked_viewer': profile.has_blocked_viewer,\n",
    "        'has_public_story': temp_has_public_story,\n",
    "        'has_viewable_story': temp_has_viewable_story,\n",
    "        'has_requested_viewer': profile.has_requested_viewer,\n",
    "        'is_verified': profile.is_verified,\n",
    "        'requested_by_viewer': profile.requested_by_viewer,\n",
    "        'profile_pic_url': profile.profile_pic_url,\n",
    "        'has_higlighted_reels': profile.has_highlight_reels,\n",
    "        'followed_by_viewer': profile.followed_by_viewer\n",
    "    }\n",
    "    temp_vect.append(dict_profile_data)\n",
    "    profile_data = pd.DataFrame(temp_vect)\n",
    "\n",
    "    return profile_data"
   ]
  },
  {
   "cell_type": "code",
   "execution_count": 5,
   "metadata": {},
   "outputs": [],
   "source": [
    "# GET DATA POST FROM SHORTCODE\n",
    "def get_post_from_shortcode(SHORTCODE:str, MAX_COMMENT:int):\n",
    "    post = Post.from_shortcode(L.context, SHORTCODE)\n",
    "    try:\n",
    "        accessibility_caption = str(post._asdict()['accessibility_caption'])\n",
    "    except Exception as ex:\n",
    "        print(ex)\n",
    "        accessibility_caption = None\n",
    "        #INFORMATION OF THE POST GOING INTO THE CSV\n",
    "        post_info_dict = {\n",
    "            'title': post.title,\n",
    "            'owner_username': post.owner_username,\n",
    "            'date_and_time': post.date,\n",
    "            'type_of_post': post.typename,\n",
    "            'mediacount': post.mediacount,\n",
    "            'caption': post.caption,\n",
    "            'n_caption_hashatags': len(post.caption_hashtags),\n",
    "            'caption_hashtags': post.caption_hashtags,\n",
    "            'n_mentions_post': len(post.caption_mentions),\n",
    "            'n_tagged_users': len(post.tagged_users),\n",
    "            'is_video': post.is_video,\n",
    "            'n_likes': post.likes,\n",
    "            'n_comments': post.comments,\n",
    "            'is_sponsored': post.is_sponsored,\n",
    "            'url': 'instagram.com/p/{}/'.format(post.shortcode),\n",
    "            'description_of_post': accessibility_caption,\n",
    "            'has_image_on_dataset': image_presence, \n",
    "            'comment_path': path_comments_csv\n",
    "        }\n",
    "        comments_vect = []\n",
    "        comment_count = 0\n",
    "        for comment in post.get_comments():\n",
    "            answer_count = 0\n",
    "            for answer in comment.answers:\n",
    "                answer_count += 1\n",
    "            comment_info_dict = {\n",
    "                'date_and_time': comment.created_at_utc,\n",
    "                'profile': comment.owner.username,\n",
    "                'text': comment.text,\n",
    "                'n_likes': comment.likes_count,\n",
    "                'answer_count': answer_count\n",
    "            }\n",
    "            \n",
    "            comments_vect.append(comment_info_dict)\n",
    "            if comment_count == MAX_COMMENT:\n",
    "                break\n",
    "            comment_count += 1\n",
    "            print('.', end='')\n",
    "        print('End Comments')\n",
    "        comment_df = pd.DataFrame(comments_vect)\n",
    "        post_df = pd.DataFrame([post_info_dict])\n",
    "\n",
    "        return post_df, comment_df\n",
    "\n",
    "    "
   ]
  },
  {
   "cell_type": "code",
   "execution_count": 14,
   "metadata": {},
   "outputs": [],
   "source": [
    "#GET DATA OF THE PROFILE\n",
    "def get_post_and_comment(self, MAX_COMMENT: int, L = None, MAX_POST=5, profile=None):\n",
    "        \n",
    "        counter_post = 1\n",
    "        post_profile = {\"profile\": profile.username, 'posts': []}\n",
    "        for post in profile.get_posts():\n",
    "            comments_vect = []\n",
    "            try:\n",
    "                accessibility_caption = str(\n",
    "                    post._asdict()['accessibility_caption'])\n",
    "            except Exception as ex:\n",
    "                print(ex)\n",
    "                accessibility_caption = None\n",
    "            #INFORMATION OF THE POST GOING INTO THE CSV\n",
    "            post_info_dict = {\n",
    "                'title': post.title,\n",
    "                'owner_username': post.owner_username,\n",
    "                'date_and_time': post.date,\n",
    "                'type_of_post': post.typename,\n",
    "                'mediacount': post.mediacount,\n",
    "                'caption': post.caption,\n",
    "                'n_caption_hashatags': len(post.caption_hashtags),\n",
    "                'caption_hashtags': post.caption_hashtags,\n",
    "                'n_mentions_post': len(post.caption_mentions),\n",
    "                'n_tagged_users': len(post.tagged_users),\n",
    "                'is_video': post.is_video,\n",
    "                'n_likes': post.likes,\n",
    "                'n_comments': post.comments,\n",
    "                'is_sponsored': post.is_sponsored,\n",
    "                'url_link' : post.url,\n",
    "                'url_insta': 'instagram.com/p/{}/'.format(post.shortcode),\n",
    "                'description_of_post': accessibility_caption,\n",
    "            }\n",
    "\n",
    "            # DOWNLOAD AND STORE COMMENT\n",
    "            print('Start Comments')\n",
    "\n",
    "            comment_count = 0\n",
    "            for comment in post.get_comments():\n",
    "                answer_count = 0\n",
    "                \"\"\"\n",
    "                for answer in comment.answers:\n",
    "                    answer_count += 1\n",
    "                    if answer_count == 5:\n",
    "                        break\n",
    "                \"\"\"\n",
    "                analisys, score = self.analizer.return_sentiment(\n",
    "                    str(comment.text).strip())\n",
    "                comment_info_dict = {\n",
    "                    'date_and_time': comment.created_at_utc,\n",
    "                    'profile': comment.owner.username,\n",
    "                    'text': str(comment.text).strip(),\n",
    "                    'n_likes': comment.likes_count,\n",
    "                   # 'answer_count': answer_count,\n",
    "                    'sentiment_analysis': analisys,\n",
    "                    'score': score\n",
    "                }\n",
    "\n",
    "\n",
    "                comments_vect.append(comment_info_dict)\n",
    "                if comment_count == MAX_COMMENT:\n",
    "                    print(\"MAX COMMENT\")\n",
    "                    break\n",
    "                comment_count += 1\n",
    "                print('.', end='')\n",
    "            print('End Comments')\n",
    "\n",
    "            #L.download_pic(path_pic_jpg, post.url, post.date_utc)\n",
    "\n",
    "            #STORING DATA SCRAPED AND UPLOAD RELATIVE CSVs\n",
    "            comment_df = pd.DataFrame(comments_vect)\n",
    "            post_df = pd.DataFrame([post_info_dict])\n",
    "\n",
    "            post = {'post_info': post_df, 'comments': comment_df}\n",
    "            post_profile['posts'].append(post)\n",
    "            print(\"END__POST\")\n",
    "            #IF MAX POST DOWNLOADED BREAK\n",
    "            if counter_post % MAX_POST == 0:\n",
    "                print('Post Reached')\n",
    "                break\n",
    "            counter_post += 1\n",
    "\n",
    "        return post_profile"
   ]
  },
  {
   "cell_type": "code",
   "execution_count": 6,
   "metadata": {},
   "outputs": [
    {
     "output_type": "stream",
     "name": "stdout",
     "text": [
      "logging in ... \n",
      "logged in ->  test_lorenz\n"
     ]
    }
   ],
   "source": [
    "scraper = init_insta(username='test_lorenz', password='provaprova')\n",
    "profile = set_profile(L = scraper, username_profile=\"bbcnews\")"
   ]
  },
  {
   "cell_type": "code",
   "execution_count": 9,
   "metadata": {},
   "outputs": [
    {
     "output_type": "execute_result",
     "data": {
      "text/plain": [
       "    user_id username  followed_by_viewer  post_count  igtv_count  n_follower  \\\n",
       "0  16278726  bbcnews               False       12589        2433    17784034   \n",
       "\n",
       "   n_followees              external_url  is_bussines business_Category  ...  \\\n",
       "0            4  https://bbc.in/NewsInsta         True        Publishers  ...   \n",
       "\n",
       "  follows_viewer  full_name  has_blocked_viewer has_public_story  \\\n",
       "0          False   BBC News               False             True   \n",
       "\n",
       "   has_viewable_story  has_requested_viewer  is_verified  requested_by_viewer  \\\n",
       "0                True                 False         True                False   \n",
       "\n",
       "                                     profile_pic_url  has_higlighted_reels  \n",
       "0  https://scontent-lhr8-1.cdninstagram.com/v/t51...                  True  \n",
       "\n",
       "[1 rows x 22 columns]"
      ],
      "text/html": "<div>\n<style scoped>\n    .dataframe tbody tr th:only-of-type {\n        vertical-align: middle;\n    }\n\n    .dataframe tbody tr th {\n        vertical-align: top;\n    }\n\n    .dataframe thead th {\n        text-align: right;\n    }\n</style>\n<table border=\"1\" class=\"dataframe\">\n  <thead>\n    <tr style=\"text-align: right;\">\n      <th></th>\n      <th>user_id</th>\n      <th>username</th>\n      <th>followed_by_viewer</th>\n      <th>post_count</th>\n      <th>igtv_count</th>\n      <th>n_follower</th>\n      <th>n_followees</th>\n      <th>external_url</th>\n      <th>is_bussines</th>\n      <th>business_Category</th>\n      <th>...</th>\n      <th>follows_viewer</th>\n      <th>full_name</th>\n      <th>has_blocked_viewer</th>\n      <th>has_public_story</th>\n      <th>has_viewable_story</th>\n      <th>has_requested_viewer</th>\n      <th>is_verified</th>\n      <th>requested_by_viewer</th>\n      <th>profile_pic_url</th>\n      <th>has_higlighted_reels</th>\n    </tr>\n  </thead>\n  <tbody>\n    <tr>\n      <th>0</th>\n      <td>16278726</td>\n      <td>bbcnews</td>\n      <td>False</td>\n      <td>12589</td>\n      <td>2433</td>\n      <td>17784034</td>\n      <td>4</td>\n      <td>https://bbc.in/NewsInsta</td>\n      <td>True</td>\n      <td>Publishers</td>\n      <td>...</td>\n      <td>False</td>\n      <td>BBC News</td>\n      <td>False</td>\n      <td>True</td>\n      <td>True</td>\n      <td>False</td>\n      <td>True</td>\n      <td>False</td>\n      <td>https://scontent-lhr8-1.cdninstagram.com/v/t51...</td>\n      <td>True</td>\n    </tr>\n  </tbody>\n</table>\n<p>1 rows × 22 columns</p>\n</div>"
     },
     "metadata": {},
     "execution_count": 9
    }
   ],
   "source": [
    "get_profile_data(profile)"
   ]
  },
  {
   "cell_type": "code",
   "execution_count": 12,
   "metadata": {},
   "outputs": [
    {
     "output_type": "error",
     "ename": "AttributeError",
     "evalue": "'Instaloader' object has no attribute 'profile'",
     "traceback": [
      "\u001b[0;31m---------------------------------------------------------------------------\u001b[0m",
      "\u001b[0;31mAttributeError\u001b[0m                            Traceback (most recent call last)",
      "\u001b[0;32m<ipython-input-12-8b4b9e69d010>\u001b[0m in \u001b[0;36m<module>\u001b[0;34m\u001b[0m\n\u001b[0;32m----> 1\u001b[0;31m \u001b[0mpost_profile\u001b[0m \u001b[0;34m=\u001b[0m \u001b[0mget_post_and_comment\u001b[0m\u001b[0;34m(\u001b[0m\u001b[0mscraper\u001b[0m\u001b[0;34m,\u001b[0m\u001b[0;36m50\u001b[0m\u001b[0;34m,\u001b[0m\u001b[0;36m5\u001b[0m\u001b[0;34m,\u001b[0m \u001b[0mprofile\u001b[0m \u001b[0;34m)\u001b[0m\u001b[0;34m\u001b[0m\u001b[0;34m\u001b[0m\u001b[0m\n\u001b[0m",
      "\u001b[0;32m<ipython-input-11-d4f869db7352>\u001b[0m in \u001b[0;36mget_post_and_comment\u001b[0;34m(self, MAX_COMMENT, L, MAX_POST, profile)\u001b[0m\n\u001b[1;32m      2\u001b[0m \u001b[0;32mdef\u001b[0m \u001b[0mget_post_and_comment\u001b[0m\u001b[0;34m(\u001b[0m\u001b[0mself\u001b[0m\u001b[0;34m,\u001b[0m \u001b[0mMAX_COMMENT\u001b[0m\u001b[0;34m:\u001b[0m \u001b[0mint\u001b[0m\u001b[0;34m,\u001b[0m \u001b[0mL\u001b[0m \u001b[0;34m=\u001b[0m \u001b[0;32mNone\u001b[0m\u001b[0;34m,\u001b[0m \u001b[0mMAX_POST\u001b[0m\u001b[0;34m=\u001b[0m\u001b[0;36m5\u001b[0m\u001b[0;34m,\u001b[0m \u001b[0mprofile\u001b[0m\u001b[0;34m=\u001b[0m\u001b[0;32mNone\u001b[0m\u001b[0;34m)\u001b[0m\u001b[0;34m:\u001b[0m\u001b[0;34m\u001b[0m\u001b[0;34m\u001b[0m\u001b[0m\n\u001b[1;32m      3\u001b[0m         \u001b[0;32mif\u001b[0m \u001b[0mprofile\u001b[0m \u001b[0;32mis\u001b[0m \u001b[0;32mNone\u001b[0m\u001b[0;34m:\u001b[0m\u001b[0;34m\u001b[0m\u001b[0;34m\u001b[0m\u001b[0m\n\u001b[0;32m----> 4\u001b[0;31m             \u001b[0mprofile\u001b[0m \u001b[0;34m=\u001b[0m \u001b[0mself\u001b[0m\u001b[0;34m.\u001b[0m\u001b[0mprofile\u001b[0m\u001b[0;34m\u001b[0m\u001b[0;34m\u001b[0m\u001b[0m\n\u001b[0m\u001b[1;32m      5\u001b[0m         \u001b[0;32mif\u001b[0m \u001b[0mL\u001b[0m \u001b[0;32mis\u001b[0m \u001b[0;32mNone\u001b[0m\u001b[0;34m:\u001b[0m\u001b[0;34m\u001b[0m\u001b[0;34m\u001b[0m\u001b[0m\n\u001b[1;32m      6\u001b[0m             \u001b[0mL\u001b[0m \u001b[0;34m=\u001b[0m \u001b[0mself\u001b[0m\u001b[0;34m.\u001b[0m\u001b[0mL\u001b[0m\u001b[0;34m\u001b[0m\u001b[0;34m\u001b[0m\u001b[0m\n",
      "\u001b[0;31mAttributeError\u001b[0m: 'Instaloader' object has no attribute 'profile'"
     ]
    }
   ],
   "source": [
    "post_profile = get_post_and_comment(L = scraper,50,5, profile )"
   ]
  },
  {
   "cell_type": "code",
   "execution_count": 27,
   "metadata": {},
   "outputs": [],
   "source": [
    "import numpy as np"
   ]
  },
  {
   "cell_type": "code",
   "execution_count": 28,
   "metadata": {},
   "outputs": [
    {
     "output_type": "execute_result",
     "data": {
      "text/plain": [
       "'2021-04-27T12:59:56.000000000'"
      ]
     },
     "metadata": {},
     "execution_count": 28
    }
   ],
   "source": [
    "df_comments = post_profile['posts']\n",
    "np.datetime_as_string(post['post_info']['date_and_time'].values[0])"
   ]
  },
  {
   "cell_type": "code",
   "execution_count": 15,
   "metadata": {},
   "outputs": [
    {
     "output_type": "stream",
     "name": "stdout",
     "text": [
      "<class 'pandas.core.frame.DataFrame'>\n<class 'pandas.core.frame.DataFrame'>\n<class 'pandas.core.frame.DataFrame'>\n<class 'pandas.core.frame.DataFrame'>\n<class 'pandas.core.frame.DataFrame'>\n"
     ]
    }
   ],
   "source": [
    "for post in post_profile['posts']:\n",
    "    print(type(post['comments']))"
   ]
  },
  {
   "cell_type": "code",
   "execution_count": null,
   "metadata": {},
   "outputs": [],
   "source": []
  }
 ]
}